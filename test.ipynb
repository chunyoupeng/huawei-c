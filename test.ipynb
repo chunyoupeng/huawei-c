{
 "cells": [
  {
   "cell_type": "code",
   "execution_count": 1,
   "metadata": {},
   "outputs": [],
   "source": [
    "# import pandas as pd\n",
    "# data = pd.read_excel('附件一（训练集）.xlsx')"
   ]
  },
  {
   "cell_type": "code",
   "execution_count": 2,
   "metadata": {},
   "outputs": [],
   "source": [
    "# import pandas as pd \n",
    "# data = pd.read_excel('附件一（训练集）.xlsx', sheet_name=None)\n"
   ]
  },
  {
   "cell_type": "code",
   "execution_count": 3,
   "metadata": {},
   "outputs": [],
   "source": [
    "# merged_data = pd.concat(data.values(), ignore_index=True)\n",
    "# # merged_data = data\n",
    "# len(merged_data)"
   ]
  },
  {
   "cell_type": "code",
   "execution_count": 4,
   "metadata": {},
   "outputs": [],
   "source": [
    "# merged_data.to_csv('merged_4.csv')"
   ]
  },
  {
   "cell_type": "code",
   "execution_count": 5,
   "metadata": {},
   "outputs": [],
   "source": [
    "import pandas as pd\n",
    "import numpy as np\n",
    "import torch\n",
    "import torch.nn as nn\n",
    "import torch.optim as optim\n",
    "from sklearn.model_selection import train_test_split\n",
    "from sklearn.preprocessing import StandardScaler\n",
    "from sklearn.metrics import classification_report, confusion_matrix\n",
    "import torch.nn.functional as F\n"
   ]
  },
  {
   "cell_type": "code",
   "execution_count": 45,
   "metadata": {},
   "outputs": [],
   "source": []
  },
  {
   "cell_type": "code",
   "execution_count": 6,
   "metadata": {},
   "outputs": [],
   "source": [
    "from scipy.stats import skew\n",
    "\n",
    "def calculate_symmetry(signal):\n",
    "    # Ensure the signal contains only numeric values, handling non-numeric values and NaN\n",
    "    signal = pd.to_numeric(signal, errors='coerce')\n",
    "\n",
    "\n",
    "    # Ensure there are enough data points to calculate symmetry\n",
    "    if len(signal) == 0:\n",
    "        return np.nan, np.nan\n",
    "\n",
    "    # Calculate skewness\n",
    "    signal_skewness = skew(signal)\n",
    "\n",
    "    # Calculate center index\n",
    "    center_index = len(signal) // 2\n",
    "    left_part = signal[:center_index]\n",
    "    right_part = signal[center_index:]\n",
    "\n",
    "    # Compute the means of the left and right parts\n",
    "    left_mean = np.mean(left_part)\n",
    "    right_mean = np.mean(right_part)\n",
    "\n",
    "    # Calculate symmetry measure (difference between left and right means)\n",
    "    symmetry_measure = left_mean - right_mean\n",
    "\n",
    "    return signal_skewness, symmetry_measure"
   ]
  },
  {
   "cell_type": "code",
   "execution_count": 7,
   "metadata": {},
   "outputs": [],
   "source": [
    "def normalize(data):\n",
    "    min_val = np.min(data)\n",
    "    max_val = np.max(data)\n",
    "    normalized_data = (data - min_val) / (max_val - min_val)\n",
    "    return normalized_data"
   ]
  },
  {
   "cell_type": "code",
   "execution_count": 8,
   "metadata": {},
   "outputs": [],
   "source": [
    "def extract_frequency_features(signal, fs):\n",
    "    # 进行FFT\n",
    "    signal = pd.to_numeric(signal)\n",
    "    fft_result = np.fft.fft(signal)\n",
    "    # print(\"fs:\", fs)  # 或者使用 assert fs != 0\n",
    "    if fs == 0:\n",
    "        fs = 50_000\n",
    "    freqs = np.fft.fftfreq(len(signal), d=1/fs)\n",
    "    # 取前半部分频率和幅值\n",
    "    half_length = len(signal) // 2\n",
    "    magnitude = np.abs(fft_result[:half_length])\n",
    "    frequency = freqs[:half_length]\n",
    "\n",
    "    # 提取特征\n",
    "    max_freq = frequency[np.argmax(magnitude)]  # 最大幅值对应的频率\n",
    "    mean_mag = np.mean(magnitude)  # 幅值均值\n",
    "    std_mag = np.std(magnitude)    # 幅值标准差\n",
    "    energy = np.sum(magnitude ** 2) # 能量\n",
    "\n",
    "    # 返回特征\n",
    "    return max_freq, mean_mag, std_mag, energy"
   ]
  },
  {
   "cell_type": "code",
   "execution_count": 9,
   "metadata": {},
   "outputs": [],
   "source": [
    "def calculate_slope(signal):\n",
    "    slope = np.zeros_like(signal)  # 创建与信号相同长度的数组\n",
    "    slope[:-1] = np.diff(signal)  # 前向差分\n",
    "    return slope"
   ]
  },
  {
   "cell_type": "code",
   "execution_count": 10,
   "metadata": {},
   "outputs": [],
   "source": [
    "def calculate_duty_cycle(signal, threshold=0):\n",
    "    # 找到信号大于阈值的部分\n",
    "    high_time = np.sum(signal > threshold)  # 高电平时间\n",
    "    total_time = len(signal)  # 总时间 (信号的长度)\n",
    "\n",
    "    # 计算占空比\n",
    "    duty_cycle = (high_time / total_time) * 100  # 百分比形式\n",
    "\n",
    "    return duty_cycle"
   ]
  },
  {
   "cell_type": "code",
   "execution_count": 11,
   "metadata": {},
   "outputs": [],
   "source": [
    "def extract_features(row):\n",
    "    flux_density = row.iloc[4:]  # 假设磁通密度列从第5列开始\n",
    "    # print(type(flux_density.values))\n",
    "    # print(flux_density.values)\n",
    "    # print(len(flux_density.values))\n",
    "    fs = row.iloc[1]\n",
    "    skewness, symmetric_messure = calculate_symmetry(flux_density.values)\n",
    "    max_freq, mean_mag, std_mag, energy = extract_frequency_features(flux_density.values, fs)\n",
    "    slope = calculate_slope(flux_density.values)\n",
    "    return pd.Series({\n",
    "        # 'mean_flux': np.mean(flux_density),\n",
    "        # 'std_flux': np.std(flux_density),\n",
    "        'max_flux': np.max(flux_density),\n",
    "        # 'min_flux': np.min(flux_density),\n",
    "        # 'range_flux': np.max(flux_density) - np.min(flux_density),\n",
    "        # 'skewness': skewness,\n",
    "        # 'symmetric_messure': symmetric_messure,\n",
    "        # 'max_freq': max_freq,\n",
    "        # 'mean_mag': mean_mag,\n",
    "        # 'std_mag': std_mag,\n",
    "        # 'energy': energy,\n",
    "        # 'slope_mean': np.mean(slope),\n",
    "        # 'slope_std': np.std(slope),\n",
    "        # 'slope_max': np.max(slope),\n",
    "        # 'slope_min': np.min(slope),\n",
    "        # 'slope_abs_mean': np.mean(np.abs(slope)),\n",
    "        # 'duty_cicle': calculate_duty_cycle(flux_density.values),\n",
    "    })\n",
    "\n",
    "# features = merged_data.apply(extract_features, axis=1)"
   ]
  },
  {
   "cell_type": "code",
   "execution_count": 1,
   "metadata": {},
   "outputs": [],
   "source": [
    "import pandas as pd\n",
    "features_lst = []\n",
    "for i in range(1, 5):\n",
    "    filename = '材料' + str(i)\n",
    "    data = pd.read_excel('附件一（训练集）.xlsx', sheet_name=filename)\n",
    "    # data = data[data['wav'] == '正弦波']\n",
    "    # features = data.apply(extract_features, axis=1)\n",
    "    # features_normalized = (features - features.min()) / (features.max() - features.min()) * 2 -1\n",
    "    # features['label'] = data['励磁波形']\n",
    "    # features['温度'] = data['温度，oC']\n",
    "    # features['频率Hz'] = data['频率，Hz']\n",
    "    # features['损耗'] =data['磁芯损耗，w/m3']\n",
    "    # features.to_csv('材料'+ str(i)+'特征.csv', index=False, encoding='utf-8-sig')\n",
    "    features_lst.append(data)\n",
    "\n",
    "#dd "
   ]
  },
  {
   "cell_type": "code",
   "execution_count": 2,
   "metadata": {},
   "outputs": [
    {
     "data": {
      "text/html": [
       "<div>\n",
       "<style scoped>\n",
       "    .dataframe tbody tr th:only-of-type {\n",
       "        vertical-align: middle;\n",
       "    }\n",
       "\n",
       "    .dataframe tbody tr th {\n",
       "        vertical-align: top;\n",
       "    }\n",
       "\n",
       "    .dataframe thead th {\n",
       "        text-align: right;\n",
       "    }\n",
       "</style>\n",
       "<table border=\"1\" class=\"dataframe\">\n",
       "  <thead>\n",
       "    <tr style=\"text-align: right;\">\n",
       "      <th></th>\n",
       "      <th>温度，oC</th>\n",
       "      <th>频率，Hz</th>\n",
       "      <th>磁芯损耗，w/m3</th>\n",
       "      <th>励磁波形</th>\n",
       "      <th>0（磁通密度B，T）</th>\n",
       "      <th>1</th>\n",
       "      <th>2</th>\n",
       "      <th>3</th>\n",
       "      <th>4</th>\n",
       "      <th>5</th>\n",
       "      <th>...</th>\n",
       "      <th>1014</th>\n",
       "      <th>1015</th>\n",
       "      <th>1016</th>\n",
       "      <th>1017</th>\n",
       "      <th>1018</th>\n",
       "      <th>1019</th>\n",
       "      <th>1020</th>\n",
       "      <th>1021</th>\n",
       "      <th>1022</th>\n",
       "      <th>1023</th>\n",
       "    </tr>\n",
       "  </thead>\n",
       "  <tbody>\n",
       "    <tr>\n",
       "      <th>1000</th>\n",
       "      <td>70</td>\n",
       "      <td>251170</td>\n",
       "      <td>1874.30</td>\n",
       "      <td>正弦波</td>\n",
       "      <td>0.00086</td>\n",
       "      <td>0.00078</td>\n",
       "      <td>0.00071</td>\n",
       "      <td>0.00063</td>\n",
       "      <td>0.00056</td>\n",
       "      <td>0.00048</td>\n",
       "      <td>...</td>\n",
       "      <td>0.00162</td>\n",
       "      <td>0.00154</td>\n",
       "      <td>0.00146</td>\n",
       "      <td>0.00139</td>\n",
       "      <td>0.00131</td>\n",
       "      <td>0.00124</td>\n",
       "      <td>0.00116</td>\n",
       "      <td>0.00109</td>\n",
       "      <td>0.00101</td>\n",
       "      <td>0.00093</td>\n",
       "    </tr>\n",
       "    <tr>\n",
       "      <th>1001</th>\n",
       "      <td>70</td>\n",
       "      <td>50020</td>\n",
       "      <td>3784.87</td>\n",
       "      <td>正弦波</td>\n",
       "      <td>0.01813</td>\n",
       "      <td>0.01842</td>\n",
       "      <td>0.01870</td>\n",
       "      <td>0.01899</td>\n",
       "      <td>0.01927</td>\n",
       "      <td>0.01955</td>\n",
       "      <td>...</td>\n",
       "      <td>0.01524</td>\n",
       "      <td>0.01553</td>\n",
       "      <td>0.01582</td>\n",
       "      <td>0.01612</td>\n",
       "      <td>0.01641</td>\n",
       "      <td>0.01670</td>\n",
       "      <td>0.01699</td>\n",
       "      <td>0.01727</td>\n",
       "      <td>0.01756</td>\n",
       "      <td>0.01785</td>\n",
       "    </tr>\n",
       "  </tbody>\n",
       "</table>\n",
       "<p>2 rows × 1028 columns</p>\n",
       "</div>"
      ],
      "text/plain": [
       "      温度，oC   频率，Hz  磁芯损耗，w/m3 励磁波形  0（磁通密度B，T）        1        2        3  \\\n",
       "1000     70  251170    1874.30  正弦波     0.00086  0.00078  0.00071  0.00063   \n",
       "1001     70   50020    3784.87  正弦波     0.01813  0.01842  0.01870  0.01899   \n",
       "\n",
       "            4        5  ...     1014     1015     1016     1017     1018  \\\n",
       "1000  0.00056  0.00048  ...  0.00162  0.00154  0.00146  0.00139  0.00131   \n",
       "1001  0.01927  0.01955  ...  0.01524  0.01553  0.01582  0.01612  0.01641   \n",
       "\n",
       "         1019     1020     1021     1022     1023  \n",
       "1000  0.00124  0.00116  0.00109  0.00101  0.00093  \n",
       "1001  0.01670  0.01699  0.01727  0.01756  0.01785  \n",
       "\n",
       "[2 rows x 1028 columns]"
      ]
     },
     "execution_count": 2,
     "metadata": {},
     "output_type": "execute_result"
    }
   ],
   "source": [
    "features_lst[1][1000:1002]"
   ]
  },
  {
   "cell_type": "code",
   "execution_count": 3,
   "metadata": {},
   "outputs": [],
   "source": [
    "result = pd.concat(features_lst, ignore_index=True)"
   ]
  },
  {
   "cell_type": "code",
   "execution_count": 4,
   "metadata": {},
   "outputs": [
    {
     "data": {
      "text/plain": [
       "12400"
      ]
     },
     "execution_count": 4,
     "metadata": {},
     "output_type": "execute_result"
    }
   ],
   "source": [
    "len(result)"
   ]
  },
  {
   "cell_type": "code",
   "execution_count": 5,
   "metadata": {},
   "outputs": [
    {
     "data": {
      "text/html": [
       "<div>\n",
       "<style scoped>\n",
       "    .dataframe tbody tr th:only-of-type {\n",
       "        vertical-align: middle;\n",
       "    }\n",
       "\n",
       "    .dataframe tbody tr th {\n",
       "        vertical-align: top;\n",
       "    }\n",
       "\n",
       "    .dataframe thead th {\n",
       "        text-align: right;\n",
       "    }\n",
       "</style>\n",
       "<table border=\"1\" class=\"dataframe\">\n",
       "  <thead>\n",
       "    <tr style=\"text-align: right;\">\n",
       "      <th></th>\n",
       "      <th>temperature</th>\n",
       "      <th>frequency</th>\n",
       "      <th>core_loss</th>\n",
       "      <th>waveform</th>\n",
       "      <th>0</th>\n",
       "      <th>1</th>\n",
       "      <th>2</th>\n",
       "      <th>3</th>\n",
       "      <th>4</th>\n",
       "      <th>5</th>\n",
       "      <th>...</th>\n",
       "      <th>1015</th>\n",
       "      <th>1016</th>\n",
       "      <th>1017</th>\n",
       "      <th>1018</th>\n",
       "      <th>1019</th>\n",
       "      <th>1020</th>\n",
       "      <th>1021</th>\n",
       "      <th>1022</th>\n",
       "      <th>1023</th>\n",
       "      <th>material</th>\n",
       "    </tr>\n",
       "  </thead>\n",
       "  <tbody>\n",
       "    <tr>\n",
       "      <th>0</th>\n",
       "      <td>25</td>\n",
       "      <td>50030</td>\n",
       "      <td>1997.95525</td>\n",
       "      <td>正弦波</td>\n",
       "      <td>0.000213</td>\n",
       "      <td>0.000389</td>\n",
       "      <td>0.000566</td>\n",
       "      <td>0.000743</td>\n",
       "      <td>0.000919</td>\n",
       "      <td>0.001096</td>\n",
       "      <td>...</td>\n",
       "      <td>-0.001374</td>\n",
       "      <td>-0.001198</td>\n",
       "      <td>-0.001022</td>\n",
       "      <td>-0.000846</td>\n",
       "      <td>-0.000669</td>\n",
       "      <td>-0.000492</td>\n",
       "      <td>-0.000316</td>\n",
       "      <td>-0.000140</td>\n",
       "      <td>0.000036</td>\n",
       "      <td>材料1</td>\n",
       "    </tr>\n",
       "    <tr>\n",
       "      <th>1</th>\n",
       "      <td>25</td>\n",
       "      <td>50020</td>\n",
       "      <td>2427.74983</td>\n",
       "      <td>正弦波</td>\n",
       "      <td>-0.000551</td>\n",
       "      <td>-0.000358</td>\n",
       "      <td>-0.000165</td>\n",
       "      <td>0.000028</td>\n",
       "      <td>0.000221</td>\n",
       "      <td>0.000413</td>\n",
       "      <td>...</td>\n",
       "      <td>-0.002284</td>\n",
       "      <td>-0.002091</td>\n",
       "      <td>-0.001899</td>\n",
       "      <td>-0.001707</td>\n",
       "      <td>-0.001515</td>\n",
       "      <td>-0.001322</td>\n",
       "      <td>-0.001129</td>\n",
       "      <td>-0.000937</td>\n",
       "      <td>-0.000744</td>\n",
       "      <td>材料1</td>\n",
       "    </tr>\n",
       "  </tbody>\n",
       "</table>\n",
       "<p>2 rows × 1029 columns</p>\n",
       "</div>"
      ],
      "text/plain": [
       "   temperature  frequency   core_loss waveform         0         1         2  \\\n",
       "0           25      50030  1997.95525      正弦波  0.000213  0.000389  0.000566   \n",
       "1           25      50020  2427.74983      正弦波 -0.000551 -0.000358 -0.000165   \n",
       "\n",
       "          3         4         5  ...      1015      1016      1017      1018  \\\n",
       "0  0.000743  0.000919  0.001096  ... -0.001374 -0.001198 -0.001022 -0.000846   \n",
       "1  0.000028  0.000221  0.000413  ... -0.002284 -0.002091 -0.001899 -0.001707   \n",
       "\n",
       "       1019      1020      1021      1022      1023  material  \n",
       "0 -0.000669 -0.000492 -0.000316 -0.000140  0.000036       材料1  \n",
       "1 -0.001515 -0.001322 -0.001129 -0.000937 -0.000744       材料1  \n",
       "\n",
       "[2 rows x 1029 columns]"
      ]
     },
     "execution_count": 5,
     "metadata": {},
     "output_type": "execute_result"
    }
   ],
   "source": [
    "all_train = pd.read_csv('all_train.csv')\n",
    "all_train['core_loss'] = result['磁芯损耗，w/m3']\n",
    "all_train[:2]"
   ]
  },
  {
   "cell_type": "code",
   "execution_count": 7,
   "metadata": {},
   "outputs": [],
   "source": [
    "len(all_train)\n",
    "all_train.to_csv('all_train_full_loss.csv', encoding='utf-8-sig', index=False)"
   ]
  },
  {
   "cell_type": "code",
   "execution_count": 36,
   "metadata": {},
   "outputs": [],
   "source": [
    "result.to_csv(\"result.csv\")"
   ]
  },
  {
   "cell_type": "code",
   "execution_count": 28,
   "metadata": {},
   "outputs": [],
   "source": [
    "data1 = pd.read_excel('附件一（训练集）.xlsx', sheet_name='材料1')\n",
    "features = data1.apply(extract_features, axis=1)"
   ]
  },
  {
   "cell_type": "code",
   "execution_count": 5,
   "metadata": {},
   "outputs": [
    {
     "name": "stdout",
     "output_type": "stream",
     "text": [
      "Original 1067\n",
      "80% DataFrame:\n",
      "852\n",
      "\n",
      "20% DataFrame:\n",
      "215\n",
      "Original 1097\n",
      "80% DataFrame:\n",
      "876\n",
      "\n",
      "20% DataFrame:\n",
      "221\n",
      "Original 1010\n",
      "80% DataFrame:\n",
      "807\n",
      "\n",
      "20% DataFrame:\n",
      "203\n",
      "Original 880\n",
      "80% DataFrame:\n",
      "701\n",
      "\n",
      "20% DataFrame:\n",
      "179\n"
     ]
    },
    {
     "name": "stderr",
     "output_type": "stream",
     "text": [
      "/tmp/ipykernel_701403/646051103.py:10: DeprecationWarning: DataFrameGroupBy.apply operated on the grouping columns. This behavior is deprecated, and in a future version of pandas the grouping columns will be excluded from the operation. Either pass `include_groups=False` to exclude the groupings or explicitly select the grouping columns after groupby to silence this warning.\n",
      "  split_results = data.groupby('温度', group_keys=False).apply(lambda x: split_data(x)).reset_index(drop=True)\n",
      "/tmp/ipykernel_701403/646051103.py:10: DeprecationWarning: DataFrameGroupBy.apply operated on the grouping columns. This behavior is deprecated, and in a future version of pandas the grouping columns will be excluded from the operation. Either pass `include_groups=False` to exclude the groupings or explicitly select the grouping columns after groupby to silence this warning.\n",
      "  split_results = data.groupby('温度', group_keys=False).apply(lambda x: split_data(x)).reset_index(drop=True)\n",
      "/tmp/ipykernel_701403/646051103.py:10: DeprecationWarning: DataFrameGroupBy.apply operated on the grouping columns. This behavior is deprecated, and in a future version of pandas the grouping columns will be excluded from the operation. Either pass `include_groups=False` to exclude the groupings or explicitly select the grouping columns after groupby to silence this warning.\n",
      "  split_results = data.groupby('温度', group_keys=False).apply(lambda x: split_data(x)).reset_index(drop=True)\n",
      "/tmp/ipykernel_701403/646051103.py:10: DeprecationWarning: DataFrameGroupBy.apply operated on the grouping columns. This behavior is deprecated, and in a future version of pandas the grouping columns will be excluded from the operation. Either pass `include_groups=False` to exclude the groupings or explicitly select the grouping columns after groupby to silence this warning.\n",
      "  split_results = data.groupby('温度', group_keys=False).apply(lambda x: split_data(x)).reset_index(drop=True)\n"
     ]
    }
   ],
   "source": [
    "from sklearn.model_selection import train_test_split\n",
    "import pandas as pd\n",
    "# 定义一个函数来分割数据\n",
    "def split_data(group):\n",
    "    return train_test_split(group, test_size=0.2, random_state=42)\n",
    "for i in range(1, 5):\n",
    "    filename = f'材料{str(i)}特征.csv'\n",
    "    data = pd.read_csv(filename)\n",
    "    # 使用 groupby 对温度分组，并使用 apply 执行 split_data\n",
    "    split_results = data.groupby('温度', group_keys=False).apply(lambda x: split_data(x)).reset_index(drop=True)\n",
    "\n",
    "    # 分别取出 80% 和 20% 的数据\n",
    "    df_80 = pd.concat([result[0] for result in split_results])\n",
    "    df_20 = pd.concat([result[1] for result in split_results])\n",
    "\n",
    "    print(f\"Original {len(data)}\")\n",
    "    # 输出结果\n",
    "    print(\"80% DataFrame:\")\n",
    "    print(len(df_80))\n",
    "    # print(df_80[:2])\n",
    "    print(\"\\n20% DataFrame:\")\n",
    "    print(len(df_20))\n",
    "    df_80.to_csv(f'材料{str(i)}特征_train.csv', index=False, encoding='utf-8-sig')\n",
    "    df_20.to_csv(f'材料{str(i)}特征_test.csv', index=False, encoding='utf-8-sig')\n",
    "    # print(df_20[:2])\n"
   ]
  },
  {
   "cell_type": "code",
   "execution_count": null,
   "metadata": {},
   "outputs": [],
   "source": []
  }
 ],
 "metadata": {
  "kernelspec": {
   "display_name": "agent",
   "language": "python",
   "name": "python3"
  },
  "language_info": {
   "codemirror_mode": {
    "name": "ipython",
    "version": 3
   },
   "file_extension": ".py",
   "mimetype": "text/x-python",
   "name": "python",
   "nbconvert_exporter": "python",
   "pygments_lexer": "ipython3",
   "version": "3.11.9"
  }
 },
 "nbformat": 4,
 "nbformat_minor": 2
}
